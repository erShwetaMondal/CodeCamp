{
  "nbformat": 4,
  "nbformat_minor": 0,
  "metadata": {
    "colab": {
      "provenance": [],
      "authorship_tag": "ABX9TyNwwM86foFJgO5sNCjRLo2N",
      "include_colab_link": true
    },
    "kernelspec": {
      "name": "python3",
      "display_name": "Python 3"
    },
    "language_info": {
      "name": "python"
    }
  },
  "cells": [
    {
      "cell_type": "markdown",
      "metadata": {
        "id": "view-in-github",
        "colab_type": "text"
      },
      "source": [
        "<a href=\"https://colab.research.google.com/github/erShwetaMondal/EXCEL_ASSIGNMENT_-BASIC--ADVANCE-/blob/main/Baic_coding.ipynb\" target=\"_parent\"><img src=\"https://colab.research.google.com/assets/colab-badge.svg\" alt=\"Open In Colab\"/></a>"
      ]
    },
    {
      "cell_type": "code",
      "execution_count": 1,
      "metadata": {
        "id": "vfqw6vEG9GWB",
        "colab": {
          "base_uri": "https://localhost:8080/"
        },
        "outputId": "078b1db6-689e-40f6-bc24-d67e077af41b"
      },
      "outputs": [
        {
          "output_type": "stream",
          "name": "stdout",
          "text": [
            "Enter a number:17\n",
            "b17\n"
          ]
        }
      ],
      "source": [
        "input_value=input(\"Enter a number:\")\n",
        "output_value=\"b17\"\n",
        "print(output_value)"
      ]
    },
    {
      "cell_type": "code",
      "source": [
        "x = 2\n",
        "y = 2\n",
        "total_value = x + (2 * y)\n",
        "\n",
        "if total_value % 2 == 0:\n",
        "    print(\"YES\")\n",
        "else:\n",
        "    print(\"NO\")\n"
      ],
      "metadata": {
        "id": "ZDKpDoqh-UX0",
        "colab": {
          "base_uri": "https://localhost:8080/"
        },
        "outputId": "5164cd52-2478-4bcd-a090-3c070539b88a"
      },
      "execution_count": 3,
      "outputs": [
        {
          "output_type": "stream",
          "name": "stdout",
          "text": [
            "YES\n"
          ]
        }
      ]
    },
    {
      "cell_type": "code",
      "source": [
        "def is_magic_number(num):\n",
        "    while num > 9:\n",
        "        sum_of_digits = 0\n",
        "        while num > 0:\n",
        "            sum_of_digits += num % 10\n",
        "            num //= 10  # Update num by removing the last digit\n",
        "        num = sum_of_digits  # Update num to the sum of its digits\n",
        "\n",
        "    if num == 9:\n",
        "        return True\n",
        "    else:\n",
        "        return False\n",
        "\n",
        "number_to_check = 199  # This assignment should be outside the function\n",
        "\n",
        "if is_magic_number(number_to_check):\n",
        "    print(f\"{number_to_check} is a magic number!\")\n",
        "else:\n",
        "    print(f\"{number_to_check} is not a magic number.\")"
      ],
      "metadata": {
        "id": "ODB5FmXpBLQo",
        "colab": {
          "base_uri": "https://localhost:8080/"
        },
        "outputId": "50fd0f81-0fa3-449b-ec95-94a3cee06037"
      },
      "execution_count": 9,
      "outputs": [
        {
          "output_type": "stream",
          "name": "stdout",
          "text": [
            "199 is not a magic number.\n"
          ]
        }
      ]
    },
    {
      "cell_type": "code",
      "source": [
        "def groupAnagrams(strs):\n",
        "    anagram_dict = {}\n",
        "    for word in strs:\n",
        "        sorted_word = ''.join(sorted(word))\n",
        "        if sorted_word in anagram_dict:\n",
        "            anagram_dict[sorted_word].append(word)\n",
        "        else:\n",
        "            anagram_dict[sorted_word] = [word]\n",
        "    return list(anagram_dict.values())\n",
        "\n",
        "# Example usage\n",
        "strs = [\"eat\", \"tea\", \"tan\", \"nat\", \"bat\"]\n",
        "output = groupAnagrams(strs)\n",
        "print(output)"
      ],
      "metadata": {
        "id": "juzuwQQHDswv",
        "colab": {
          "base_uri": "https://localhost:8080/"
        },
        "outputId": "377718a3-7d64-4997-fb23-a6a22d0a3dc6"
      },
      "execution_count": 11,
      "outputs": [
        {
          "output_type": "stream",
          "name": "stdout",
          "text": [
            "[['eat', 'tea'], ['tan', 'nat'], ['bat']]\n"
          ]
        }
      ]
    },
    {
      "cell_type": "code",
      "source": [
        "def maxprofit(prices):\n",
        "    max_profit = 0\n",
        "    for i in range(1, len(prices)):\n",
        "        if prices[i] > prices[i - 1]:\n",
        "            max_profit += prices[i] - prices[i - 1]\n",
        "    return max_profit\n",
        "prices = [1, 2, 3, 4, 5]\n",
        "profit = maxprofit(prices)\n",
        "print(\"Maximum profit:\", profit)"
      ],
      "metadata": {
        "id": "XQbk462iHs2r",
        "colab": {
          "base_uri": "https://localhost:8080/"
        },
        "outputId": "434ff5ed-53b6-4948-c8a0-49cc8690cdae"
      },
      "execution_count": 12,
      "outputs": [
        {
          "output_type": "stream",
          "name": "stdout",
          "text": [
            "Maximum profit: 4\n"
          ]
        }
      ]
    }
  ]
}